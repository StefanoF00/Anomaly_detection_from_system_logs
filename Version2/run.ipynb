{
 "cells": [
  {
   "cell_type": "code",
   "execution_count": 1,
   "metadata": {},
   "outputs": [
    {
     "name": "stderr",
     "output_type": "stream",
     "text": [
      "/Users/enofel/Library/Mobile Documents/com~apple~CloudDocs/ENO/università/Magistrale-ControlEngineering/Master Thesis/Code/Version2/example/preprocess.py:4: DeprecationWarning: \n",
      "Pyarrow will become a required dependency of pandas in the next major release of pandas (pandas 3.0),\n",
      "(to allow more performant data types, such as the Arrow string type, and better interoperability with other libraries)\n",
      "but was not found to be installed on your system.\n",
      "If this would cause problems for you,\n",
      "please provide us feedback at https://github.com/pandas-dev/pandas/issues/54466\n",
      "        \n",
      "  import pandas as pd\n",
      "[2024-02-02 10:54:39,951][INFO]: Parsing file: ./data_to_parse/OpenStack/openstack_abnormal.log\n",
      "[2024-02-02 10:54:40,061][INFO]: Loaded 54.2% of log lines.\n",
      "[2024-02-02 10:54:40,142][INFO]: Loaded 100.0% of log lines.\n",
      "[2024-02-02 10:54:40,152][INFO]: load_data() finished!\n",
      "[2024-02-02 10:54:40,671][INFO]: Processed 54.2% of log lines.\n",
      "[2024-02-02 10:54:41,419][INFO]: Processed 100.0% of log lines.\n",
      "[2024-02-02 10:54:41,837][INFO]: Output parse file\n",
      "[2024-02-02 10:54:41,951][INFO]: Output main file for append\n",
      "[2024-02-02 10:54:42,125][INFO]: lastestLindId: 18434\n",
      "[2024-02-02 10:54:42,321][INFO]: rootNodePath: example/openstack_result/rootNode.pkl\n",
      "[2024-02-02 10:54:42,324][INFO]: logCluLPath: example/openstack_result/logCluL.pkl\n",
      "[2024-02-02 10:54:42,325][INFO]: Store objects done.\n",
      "[2024-02-02 10:54:42,325][INFO]: Parsing done. [Time taken: 0:00:02.374112]\n",
      "[2024-02-02 10:54:42,327][INFO]: Parsing file: ./data_to_parse/OpenStack/openstack_normal2.log\n",
      "[2024-02-02 10:54:42,484][INFO]: Loaded 7.3% of log lines.\n",
      "[2024-02-02 10:54:42,666][INFO]: Loaded 14.6% of log lines.\n",
      "[2024-02-02 10:54:42,763][INFO]: Loaded 21.9% of log lines.\n",
      "[2024-02-02 10:54:42,901][INFO]: Loaded 29.2% of log lines.\n",
      "[2024-02-02 10:54:43,041][INFO]: Loaded 36.5% of log lines.\n",
      "[2024-02-02 10:54:43,180][INFO]: Loaded 43.8% of log lines.\n",
      "[2024-02-02 10:54:43,277][INFO]: Loaded 51.1% of log lines.\n",
      "[2024-02-02 10:54:43,416][INFO]: Loaded 58.4% of log lines.\n",
      "[2024-02-02 10:54:43,568][INFO]: Loaded 65.7% of log lines.\n",
      "[2024-02-02 10:54:43,664][INFO]: Loaded 73.0% of log lines.\n",
      "[2024-02-02 10:54:43,761][INFO]: Loaded 80.2% of log lines.\n",
      "[2024-02-02 10:54:43,900][INFO]: Loaded 87.5% of log lines.\n",
      "[2024-02-02 10:54:43,995][INFO]: Loaded 94.8% of log lines.\n",
      "[2024-02-02 10:54:44,117][INFO]: load_data() finished!\n",
      "[2024-02-02 10:54:44,121][INFO]: Load objects done, lastestLineId: 18434\n",
      "[2024-02-02 10:54:44,821][INFO]: Processed 7.3% of log lines.\n",
      "[2024-02-02 10:54:45,575][INFO]: Processed 14.6% of log lines.\n",
      "[2024-02-02 10:54:46,440][INFO]: Processed 21.9% of log lines.\n",
      "[2024-02-02 10:54:47,421][INFO]: Processed 29.2% of log lines.\n",
      "[2024-02-02 10:54:48,514][INFO]: Processed 36.5% of log lines.\n",
      "[2024-02-02 10:54:49,706][INFO]: Processed 43.8% of log lines.\n",
      "[2024-02-02 10:54:51,007][INFO]: Processed 51.1% of log lines.\n",
      "[2024-02-02 10:54:52,429][INFO]: Processed 58.4% of log lines.\n",
      "[2024-02-02 10:54:53,943][INFO]: Processed 65.7% of log lines.\n",
      "[2024-02-02 10:54:55,593][INFO]: Processed 73.0% of log lines.\n",
      "[2024-02-02 10:54:57,344][INFO]: Processed 80.3% of log lines.\n",
      "[2024-02-02 10:54:59,205][INFO]: Processed 87.6% of log lines.\n",
      "[2024-02-02 10:54:59,980][INFO]: Processed 95.0% of log lines.\n",
      "[2024-02-02 10:55:00,142][INFO]: Processed 100.0% of log lines.\n",
      "[2024-02-02 10:55:03,035][INFO]: Output parse file\n",
      "[2024-02-02 10:55:03,937][INFO]: lastestLindId: 18434\n",
      "[2024-02-02 10:55:07,732][INFO]: rootNodePath: example/openstack_result/rootNode.pkl\n",
      "[2024-02-02 10:55:07,742][INFO]: logCluLPath: example/openstack_result/logCluL.pkl\n",
      "[2024-02-02 10:55:07,749][INFO]: Store objects done.\n",
      "[2024-02-02 10:55:07,749][INFO]: Parsing done. [Time taken: 0:00:25.422403]\n",
      "[2024-02-02 10:55:07,759][INFO]: Parsing file: ./data_to_parse/OpenStack/openstack_normal1.log\n",
      "[2024-02-02 10:55:07,903][INFO]: Loaded 19.1% of log lines.\n",
      "[2024-02-02 10:55:07,999][INFO]: Loaded 38.2% of log lines.\n",
      "[2024-02-02 10:55:08,139][INFO]: Loaded 57.3% of log lines.\n",
      "[2024-02-02 10:55:08,238][INFO]: Loaded 76.5% of log lines.\n",
      "[2024-02-02 10:55:08,334][INFO]: Loaded 95.6% of log lines.\n",
      "[2024-02-02 10:55:08,407][INFO]: load_data() finished!\n",
      "[2024-02-02 10:55:08,480][INFO]: Load objects done, lastestLineId: 155347\n",
      "[2024-02-02 10:55:09,735][INFO]: Processed 19.1% of log lines.\n",
      "[2024-02-02 10:55:11,017][INFO]: Processed 38.2% of log lines.\n",
      "[2024-02-02 10:55:12,359][INFO]: Processed 57.4% of log lines.\n",
      "[2024-02-02 10:55:13,739][INFO]: Processed 76.5% of log lines.\n",
      "[2024-02-02 10:55:15,201][INFO]: Processed 95.6% of log lines.\n",
      "[2024-02-02 10:55:15,554][INFO]: Processed 100.0% of log lines.\n",
      "[2024-02-02 10:55:16,651][INFO]: Output parse file\n",
      "[2024-02-02 10:55:17,408][INFO]: lastestLindId: 155347\n",
      "[2024-02-02 10:55:19,825][INFO]: rootNodePath: example/openstack_result/rootNode.pkl\n",
      "[2024-02-02 10:55:19,836][INFO]: logCluLPath: example/openstack_result/logCluL.pkl\n",
      "[2024-02-02 10:55:19,844][INFO]: Store objects done.\n",
      "[2024-02-02 10:55:19,844][INFO]: Parsing done. [Time taken: 0:00:12.084762]\n"
     ]
    },
    {
     "name": "stdout",
     "output_type": "stream",
     "text": [
      "length of event_id_map: 1143\n"
     ]
    },
    {
     "name": "stderr",
     "output_type": "stream",
     "text": [
      "[2024-02-02 10:55:20,449][INFO]: length of event_id_map: 1143\n"
     ]
    },
    {
     "name": "stdout",
     "output_type": "stream",
     "text": [
      "num of classes for train dataset is: 1143\n"
     ]
    },
    {
     "name": "stderr",
     "output_type": "stream",
     "text": [
      "/Users/enofel/Library/Mobile Documents/com~apple~CloudDocs/ENO/università/Magistrale-ControlEngineering/Master Thesis/Code/Version2/example/preprocess.py:16: SettingWithCopyWarning: \n",
      "A value is trying to be set on a copy of a slice from a DataFrame.\n",
      "Try using .loc[row_indexer,col_indexer] = value instead\n",
      "\n",
      "See the caveats in the documentation: https://pandas.pydata.org/pandas-docs/stable/user_guide/indexing.html#returning-a-view-versus-a-copy\n",
      "  df['EventId'] = df['EventId'].apply(lambda e: event_id_map[e] if event_id_map.get(e) else -1)\n",
      "/Users/enofel/Library/Mobile Documents/com~apple~CloudDocs/ENO/università/Magistrale-ControlEngineering/Master Thesis/Code/Version2/example/preprocess.py:16: SettingWithCopyWarning: \n",
      "A value is trying to be set on a copy of a slice from a DataFrame.\n",
      "Try using .loc[row_indexer,col_indexer] = value instead\n",
      "\n",
      "See the caveats in the documentation: https://pandas.pydata.org/pandas-docs/stable/user_guide/indexing.html#returning-a-view-versus-a-copy\n",
      "  df['EventId'] = df['EventId'].apply(lambda e: event_id_map[e] if event_id_map.get(e) else -1)\n",
      "/Users/enofel/Library/Mobile Documents/com~apple~CloudDocs/ENO/università/Magistrale-ControlEngineering/Master Thesis/Code/Version2/example/preprocess.py:16: SettingWithCopyWarning: \n",
      "A value is trying to be set on a copy of a slice from a DataFrame.\n",
      "Try using .loc[row_indexer,col_indexer] = value instead\n",
      "\n",
      "See the caveats in the documentation: https://pandas.pydata.org/pandas-docs/stable/user_guide/indexing.html#returning-a-view-versus-a-copy\n",
      "  df['EventId'] = df['EventId'].apply(lambda e: event_id_map[e] if event_id_map.get(e) else -1)\n"
     ]
    }
   ],
   "source": [
    "%run alg/preprocess.py"
   ]
  },
  {
   "cell_type": "code",
   "execution_count": 2,
   "metadata": {},
   "outputs": [
    {
     "name": "stdout",
     "output_type": "stream",
     "text": [
      "num of classes for train dataset is: 1143\n"
     ]
    }
   ],
   "source": [
    "import pandas as pd\n",
    "df = pd.read_csv('alg/spell_results/openstack_normal1.log_structured.csv')\n",
    "print('num of classes for train dataset is: {}'.format(df['EventId'].unique().shape[0]))"
   ]
  },
  {
   "cell_type": "code",
   "execution_count": 10,
   "metadata": {},
   "outputs": [
    {
     "name": "stdout",
     "output_type": "stream",
     "text": [
      "Distributed training - False\n"
     ]
    },
    {
     "name": "stderr",
     "output_type": "stream",
     "text": [
      "[2024-02-02 17:49:46,147][DEBUG]: Distributed training - False\n"
     ]
    },
    {
     "name": "stdout",
     "output_type": "stream",
     "text": [
      "Number of gpus requested - 0, available - 0.\n"
     ]
    },
    {
     "name": "stderr",
     "output_type": "stream",
     "text": [
      "[2024-02-02 17:49:46,148][DEBUG]: Number of gpus requested - 0, available - 0.\n"
     ]
    },
    {
     "name": "stdout",
     "output_type": "stream",
     "text": [
      "Get train data loader\n"
     ]
    },
    {
     "name": "stderr",
     "output_type": "stream",
     "text": [
      "[2024-02-02 17:49:46,150][INFO]: Get train data loader\n"
     ]
    },
    {
     "name": "stdout",
     "output_type": "stream",
     "text": [
      "Number of session(data_parsed/OpenStack/train): 48429\n"
     ]
    },
    {
     "name": "stderr",
     "output_type": "stream",
     "text": [
      "[2024-02-02 17:49:46,174][INFO]: Number of session(data_parsed/OpenStack/train): 48429\n"
     ]
    },
    {
     "name": "stdout",
     "output_type": "stream",
     "text": [
      "Number of seqs(data_parsed/OpenStack/train): 48429\n"
     ]
    },
    {
     "name": "stderr",
     "output_type": "stream",
     "text": [
      "[2024-02-02 17:49:46,175][INFO]: Number of seqs(data_parsed/OpenStack/train): 48429\n"
     ]
    },
    {
     "name": "stdout",
     "output_type": "stream",
     "text": [
      "Processes 48429/48429 (100%) of train data\n"
     ]
    },
    {
     "name": "stderr",
     "output_type": "stream",
     "text": [
      "[2024-02-02 17:49:46,208][DEBUG]: Processes 48429/48429 (100%) of train data\n"
     ]
    },
    {
     "name": "stdout",
     "output_type": "stream",
     "text": [
      "Epoch [1/35], Train_loss: 0.0031\n"
     ]
    },
    {
     "name": "stderr",
     "output_type": "stream",
     "text": [
      "[2024-02-02 17:49:48,725][DEBUG]: Epoch [1/35], Train_loss: 0.0031\n"
     ]
    },
    {
     "name": "stdout",
     "output_type": "stream",
     "text": [
      "Epoch [2/35], Train_loss: 0.0016\n"
     ]
    },
    {
     "name": "stderr",
     "output_type": "stream",
     "text": [
      "[2024-02-02 17:49:51,060][DEBUG]: Epoch [2/35], Train_loss: 0.0016\n"
     ]
    },
    {
     "name": "stdout",
     "output_type": "stream",
     "text": [
      "Epoch [3/35], Train_loss: 0.0013\n"
     ]
    },
    {
     "name": "stderr",
     "output_type": "stream",
     "text": [
      "[2024-02-02 17:49:53,169][DEBUG]: Epoch [3/35], Train_loss: 0.0013\n"
     ]
    },
    {
     "name": "stdout",
     "output_type": "stream",
     "text": [
      "Epoch [4/35], Train_loss: 0.0012\n"
     ]
    },
    {
     "name": "stderr",
     "output_type": "stream",
     "text": [
      "[2024-02-02 17:49:55,241][DEBUG]: Epoch [4/35], Train_loss: 0.0012\n"
     ]
    },
    {
     "name": "stdout",
     "output_type": "stream",
     "text": [
      "Epoch [5/35], Train_loss: 0.0012\n"
     ]
    },
    {
     "name": "stderr",
     "output_type": "stream",
     "text": [
      "[2024-02-02 17:49:57,364][DEBUG]: Epoch [5/35], Train_loss: 0.0012\n"
     ]
    },
    {
     "name": "stdout",
     "output_type": "stream",
     "text": [
      "Epoch [6/35], Train_loss: 0.0012\n"
     ]
    },
    {
     "name": "stderr",
     "output_type": "stream",
     "text": [
      "[2024-02-02 17:49:59,446][DEBUG]: Epoch [6/35], Train_loss: 0.0012\n"
     ]
    },
    {
     "name": "stdout",
     "output_type": "stream",
     "text": [
      "Epoch [7/35], Train_loss: 0.0012\n"
     ]
    },
    {
     "name": "stderr",
     "output_type": "stream",
     "text": [
      "[2024-02-02 17:50:01,606][DEBUG]: Epoch [7/35], Train_loss: 0.0012\n"
     ]
    },
    {
     "name": "stdout",
     "output_type": "stream",
     "text": [
      "Epoch [8/35], Train_loss: 0.0012\n"
     ]
    },
    {
     "name": "stderr",
     "output_type": "stream",
     "text": [
      "[2024-02-02 17:50:03,857][DEBUG]: Epoch [8/35], Train_loss: 0.0012\n"
     ]
    },
    {
     "name": "stdout",
     "output_type": "stream",
     "text": [
      "Epoch [9/35], Train_loss: 0.0012\n"
     ]
    },
    {
     "name": "stderr",
     "output_type": "stream",
     "text": [
      "[2024-02-02 17:50:06,099][DEBUG]: Epoch [9/35], Train_loss: 0.0012\n"
     ]
    },
    {
     "name": "stdout",
     "output_type": "stream",
     "text": [
      "Epoch [10/35], Train_loss: 0.0012\n"
     ]
    },
    {
     "name": "stderr",
     "output_type": "stream",
     "text": [
      "[2024-02-02 17:50:08,273][DEBUG]: Epoch [10/35], Train_loss: 0.0012\n"
     ]
    },
    {
     "name": "stdout",
     "output_type": "stream",
     "text": [
      "Epoch [11/35], Train_loss: 0.0012\n"
     ]
    },
    {
     "name": "stderr",
     "output_type": "stream",
     "text": [
      "[2024-02-02 17:50:10,424][DEBUG]: Epoch [11/35], Train_loss: 0.0012\n"
     ]
    },
    {
     "name": "stdout",
     "output_type": "stream",
     "text": [
      "Epoch [12/35], Train_loss: 0.0012\n"
     ]
    },
    {
     "name": "stderr",
     "output_type": "stream",
     "text": [
      "[2024-02-02 17:50:12,830][DEBUG]: Epoch [12/35], Train_loss: 0.0012\n"
     ]
    },
    {
     "name": "stdout",
     "output_type": "stream",
     "text": [
      "Epoch [13/35], Train_loss: 0.0012\n"
     ]
    },
    {
     "name": "stderr",
     "output_type": "stream",
     "text": [
      "[2024-02-02 17:50:15,263][DEBUG]: Epoch [13/35], Train_loss: 0.0012\n"
     ]
    },
    {
     "name": "stdout",
     "output_type": "stream",
     "text": [
      "Epoch [14/35], Train_loss: 0.0012\n"
     ]
    },
    {
     "name": "stderr",
     "output_type": "stream",
     "text": [
      "[2024-02-02 17:50:17,653][DEBUG]: Epoch [14/35], Train_loss: 0.0012\n"
     ]
    },
    {
     "name": "stdout",
     "output_type": "stream",
     "text": [
      "Epoch [15/35], Train_loss: 0.0012\n"
     ]
    },
    {
     "name": "stderr",
     "output_type": "stream",
     "text": [
      "[2024-02-02 17:50:20,060][DEBUG]: Epoch [15/35], Train_loss: 0.0012\n"
     ]
    },
    {
     "name": "stdout",
     "output_type": "stream",
     "text": [
      "Epoch [16/35], Train_loss: 0.0012\n"
     ]
    },
    {
     "name": "stderr",
     "output_type": "stream",
     "text": [
      "[2024-02-02 17:50:22,384][DEBUG]: Epoch [16/35], Train_loss: 0.0012\n"
     ]
    },
    {
     "name": "stdout",
     "output_type": "stream",
     "text": [
      "Epoch [17/35], Train_loss: 0.0011\n"
     ]
    },
    {
     "name": "stderr",
     "output_type": "stream",
     "text": [
      "[2024-02-02 17:50:24,705][DEBUG]: Epoch [17/35], Train_loss: 0.0011\n"
     ]
    },
    {
     "name": "stdout",
     "output_type": "stream",
     "text": [
      "Epoch [18/35], Train_loss: 0.0011\n"
     ]
    },
    {
     "name": "stderr",
     "output_type": "stream",
     "text": [
      "[2024-02-02 17:50:27,047][DEBUG]: Epoch [18/35], Train_loss: 0.0011\n"
     ]
    },
    {
     "name": "stdout",
     "output_type": "stream",
     "text": [
      "Epoch [19/35], Train_loss: 0.0011\n"
     ]
    },
    {
     "name": "stderr",
     "output_type": "stream",
     "text": [
      "[2024-02-02 17:50:29,220][DEBUG]: Epoch [19/35], Train_loss: 0.0011\n"
     ]
    },
    {
     "name": "stdout",
     "output_type": "stream",
     "text": [
      "Epoch [20/35], Train_loss: 0.0011\n"
     ]
    },
    {
     "name": "stderr",
     "output_type": "stream",
     "text": [
      "[2024-02-02 17:50:31,589][DEBUG]: Epoch [20/35], Train_loss: 0.0011\n"
     ]
    },
    {
     "name": "stdout",
     "output_type": "stream",
     "text": [
      "Epoch [21/35], Train_loss: 0.0011\n"
     ]
    },
    {
     "name": "stderr",
     "output_type": "stream",
     "text": [
      "[2024-02-02 17:50:34,036][DEBUG]: Epoch [21/35], Train_loss: 0.0011\n"
     ]
    },
    {
     "name": "stdout",
     "output_type": "stream",
     "text": [
      "Epoch [22/35], Train_loss: 0.0011\n"
     ]
    },
    {
     "name": "stderr",
     "output_type": "stream",
     "text": [
      "[2024-02-02 17:50:36,446][DEBUG]: Epoch [22/35], Train_loss: 0.0011\n"
     ]
    },
    {
     "name": "stdout",
     "output_type": "stream",
     "text": [
      "Epoch [23/35], Train_loss: 0.001\n"
     ]
    },
    {
     "name": "stderr",
     "output_type": "stream",
     "text": [
      "[2024-02-02 17:50:38,681][DEBUG]: Epoch [23/35], Train_loss: 0.001\n"
     ]
    },
    {
     "name": "stdout",
     "output_type": "stream",
     "text": [
      "Epoch [24/35], Train_loss: 0.001\n"
     ]
    },
    {
     "name": "stderr",
     "output_type": "stream",
     "text": [
      "[2024-02-02 17:50:40,857][DEBUG]: Epoch [24/35], Train_loss: 0.001\n"
     ]
    },
    {
     "name": "stdout",
     "output_type": "stream",
     "text": [
      "Epoch [25/35], Train_loss: 0.001\n"
     ]
    },
    {
     "name": "stderr",
     "output_type": "stream",
     "text": [
      "[2024-02-02 17:50:43,124][DEBUG]: Epoch [25/35], Train_loss: 0.001\n"
     ]
    },
    {
     "name": "stdout",
     "output_type": "stream",
     "text": [
      "Epoch [26/35], Train_loss: 0.001\n"
     ]
    },
    {
     "name": "stderr",
     "output_type": "stream",
     "text": [
      "[2024-02-02 17:50:45,307][DEBUG]: Epoch [26/35], Train_loss: 0.001\n"
     ]
    },
    {
     "name": "stdout",
     "output_type": "stream",
     "text": [
      "Epoch [27/35], Train_loss: 0.001\n"
     ]
    },
    {
     "name": "stderr",
     "output_type": "stream",
     "text": [
      "[2024-02-02 17:50:47,596][DEBUG]: Epoch [27/35], Train_loss: 0.001\n"
     ]
    },
    {
     "name": "stdout",
     "output_type": "stream",
     "text": [
      "Epoch [28/35], Train_loss: 0.001\n"
     ]
    },
    {
     "name": "stderr",
     "output_type": "stream",
     "text": [
      "[2024-02-02 17:50:49,854][DEBUG]: Epoch [28/35], Train_loss: 0.001\n"
     ]
    },
    {
     "name": "stdout",
     "output_type": "stream",
     "text": [
      "Epoch [29/35], Train_loss: 0.001\n"
     ]
    },
    {
     "name": "stderr",
     "output_type": "stream",
     "text": [
      "[2024-02-02 17:50:51,998][DEBUG]: Epoch [29/35], Train_loss: 0.001\n"
     ]
    },
    {
     "name": "stdout",
     "output_type": "stream",
     "text": [
      "Epoch [30/35], Train_loss: 0.0009\n"
     ]
    },
    {
     "name": "stderr",
     "output_type": "stream",
     "text": [
      "[2024-02-02 17:50:54,350][DEBUG]: Epoch [30/35], Train_loss: 0.0009\n"
     ]
    },
    {
     "name": "stdout",
     "output_type": "stream",
     "text": [
      "Epoch [31/35], Train_loss: 0.0009\n"
     ]
    },
    {
     "name": "stderr",
     "output_type": "stream",
     "text": [
      "[2024-02-02 17:50:56,695][DEBUG]: Epoch [31/35], Train_loss: 0.0009\n"
     ]
    },
    {
     "name": "stdout",
     "output_type": "stream",
     "text": [
      "Epoch [32/35], Train_loss: 0.0009\n"
     ]
    },
    {
     "name": "stderr",
     "output_type": "stream",
     "text": [
      "[2024-02-02 17:50:58,858][DEBUG]: Epoch [32/35], Train_loss: 0.0009\n"
     ]
    },
    {
     "name": "stdout",
     "output_type": "stream",
     "text": [
      "Epoch [33/35], Train_loss: 0.0009\n"
     ]
    },
    {
     "name": "stderr",
     "output_type": "stream",
     "text": [
      "[2024-02-02 17:51:01,160][DEBUG]: Epoch [33/35], Train_loss: 0.0009\n"
     ]
    },
    {
     "name": "stdout",
     "output_type": "stream",
     "text": [
      "Epoch [34/35], Train_loss: 0.0009\n"
     ]
    },
    {
     "name": "stderr",
     "output_type": "stream",
     "text": [
      "[2024-02-02 17:51:03,373][DEBUG]: Epoch [34/35], Train_loss: 0.0009\n"
     ]
    },
    {
     "name": "stdout",
     "output_type": "stream",
     "text": [
      "Epoch [35/35], Train_loss: 0.0008\n"
     ]
    },
    {
     "name": "stderr",
     "output_type": "stream",
     "text": [
      "[2024-02-02 17:51:05,746][DEBUG]: Epoch [35/35], Train_loss: 0.0008\n"
     ]
    },
    {
     "name": "stdout",
     "output_type": "stream",
     "text": [
      "Finished Training\n"
     ]
    },
    {
     "name": "stderr",
     "output_type": "stream",
     "text": [
      "[2024-02-02 17:51:05,746][DEBUG]: Finished Training\n"
     ]
    },
    {
     "name": "stdout",
     "output_type": "stream",
     "text": [
      "Saving the model.\n"
     ]
    },
    {
     "name": "stderr",
     "output_type": "stream",
     "text": [
      "[2024-02-02 17:51:05,747][INFO]: Saving the model.\n"
     ]
    }
   ],
   "source": [
    "%run alg/train.py --batch-size 2048 --num-class 1143 --num-candidates 144 --epochs 35 --window-size 10 --local True\n"
   ]
  },
  {
   "cell_type": "code",
   "execution_count": 16,
   "metadata": {},
   "outputs": [
    {
     "name": "stdout",
     "output_type": "stream",
     "text": [
      "Loading the model.\n"
     ]
    },
    {
     "name": "stderr",
     "output_type": "stream",
     "text": [
      "[2024-02-02 17:59:58,508][INFO]: Loading the model.\n"
     ]
    },
    {
     "name": "stdout",
     "output_type": "stream",
     "text": [
      "model_info: {'input_size': 1, 'hidden_size': 64, 'num_layers': 2, 'num_classes': 1143, 'num_candidates': 144, 'window_size': 10}\n"
     ]
    },
    {
     "name": "stderr",
     "output_type": "stream",
     "text": [
      "[2024-02-02 17:59:58,510][DEBUG]: model_info: {'input_size': 1, 'hidden_size': 64, 'num_layers': 2, 'num_classes': 1143, 'num_candidates': 144, 'window_size': 10}\n"
     ]
    },
    {
     "name": "stdout",
     "output_type": "stream",
     "text": [
      "Current device: cpu\n"
     ]
    },
    {
     "name": "stderr",
     "output_type": "stream",
     "text": [
      "[2024-02-02 17:59:58,511][INFO]: Current device: cpu\n"
     ]
    }
   ],
   "source": [
    "# High threshold => High precision & low recall\n",
    "# Low Threshold => vice-versa\n",
    "%run alg/predict.py --threshold 23"
   ]
  }
 ],
 "metadata": {
  "kernelspec": {
   "display_name": "env",
   "language": "python",
   "name": "python3"
  },
  "language_info": {
   "codemirror_mode": {
    "name": "ipython",
    "version": 3
   },
   "file_extension": ".py",
   "mimetype": "text/x-python",
   "name": "python",
   "nbconvert_exporter": "python",
   "pygments_lexer": "ipython3",
   "version": "3.9.6"
  }
 },
 "nbformat": 4,
 "nbformat_minor": 2
}
