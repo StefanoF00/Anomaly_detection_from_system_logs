{
 "cells": [
  {
   "cell_type": "code",
   "execution_count": 2,
   "metadata": {},
   "outputs": [
    {
     "name": "stderr",
     "output_type": "stream",
     "text": [
      "[2024-02-04 15:39:29,144][INFO]: Parsing file: ./data_to_parse/OpenStack/openstack_abnormal.log\n",
      "[2024-02-04 15:39:29,267][INFO]: Loaded 54.2% of log lines.\n",
      "[2024-02-04 15:39:29,373][INFO]: Loaded 100.0% of log lines.\n",
      "[2024-02-04 15:39:29,381][INFO]: load_data() finished!\n",
      "[2024-02-04 15:39:29,900][INFO]: Processed 54.2% of log lines.\n",
      "[2024-02-04 15:39:30,666][INFO]: Processed 100.0% of log lines.\n",
      "[2024-02-04 15:39:31,092][INFO]: Output parse file\n",
      "[2024-02-04 15:39:31,206][INFO]: Output main file for append\n",
      "[2024-02-04 15:39:31,372][INFO]: lastestLindId: 18434\n",
      "[2024-02-04 15:39:31,559][INFO]: rootNodePath: alg/spell_results/rootNode.pkl\n",
      "[2024-02-04 15:39:31,563][INFO]: logCluLPath: alg/spell_results/logCluL.pkl\n",
      "[2024-02-04 15:39:31,564][INFO]: Store objects done.\n",
      "[2024-02-04 15:39:31,564][INFO]: Parsing done. [Time taken: 0:00:02.420084]\n",
      "[2024-02-04 15:39:31,566][INFO]: Parsing file: ./data_to_parse/OpenStack/openstack_normal2.log\n",
      "[2024-02-04 15:39:31,732][INFO]: Loaded 7.3% of log lines.\n",
      "[2024-02-04 15:39:31,920][INFO]: Loaded 14.6% of log lines.\n",
      "[2024-02-04 15:39:32,017][INFO]: Loaded 21.9% of log lines.\n",
      "[2024-02-04 15:39:32,157][INFO]: Loaded 29.2% of log lines.\n",
      "[2024-02-04 15:39:32,335][INFO]: Loaded 36.5% of log lines.\n",
      "[2024-02-04 15:39:32,477][INFO]: Loaded 43.8% of log lines.\n",
      "[2024-02-04 15:39:32,574][INFO]: Loaded 51.1% of log lines.\n",
      "[2024-02-04 15:39:32,717][INFO]: Loaded 58.4% of log lines.\n",
      "[2024-02-04 15:39:32,814][INFO]: Loaded 65.7% of log lines.\n",
      "[2024-02-04 15:39:32,912][INFO]: Loaded 73.0% of log lines.\n",
      "[2024-02-04 15:39:33,010][INFO]: Loaded 80.2% of log lines.\n",
      "[2024-02-04 15:39:33,156][INFO]: Loaded 87.5% of log lines.\n",
      "[2024-02-04 15:39:33,253][INFO]: Loaded 94.8% of log lines.\n",
      "[2024-02-04 15:39:33,380][INFO]: load_data() finished!\n",
      "[2024-02-04 15:39:33,506][INFO]: Load objects done, lastestLineId: 18434\n",
      "[2024-02-04 15:39:34,321][INFO]: Processed 7.3% of log lines.\n",
      "[2024-02-04 15:39:35,173][INFO]: Processed 14.6% of log lines.\n",
      "[2024-02-04 15:39:36,066][INFO]: Processed 21.9% of log lines.\n",
      "[2024-02-04 15:39:37,078][INFO]: Processed 29.2% of log lines.\n",
      "[2024-02-04 15:39:38,175][INFO]: Processed 36.5% of log lines.\n",
      "[2024-02-04 15:39:39,392][INFO]: Processed 43.8% of log lines.\n",
      "[2024-02-04 15:39:40,712][INFO]: Processed 51.1% of log lines.\n",
      "[2024-02-04 15:39:42,167][INFO]: Processed 58.4% of log lines.\n",
      "[2024-02-04 15:39:43,698][INFO]: Processed 65.7% of log lines.\n",
      "[2024-02-04 15:39:45,382][INFO]: Processed 73.0% of log lines.\n",
      "[2024-02-04 15:39:47,237][INFO]: Processed 80.3% of log lines.\n",
      "[2024-02-04 15:39:49,148][INFO]: Processed 87.6% of log lines.\n",
      "[2024-02-04 15:39:49,939][INFO]: Processed 95.0% of log lines.\n",
      "[2024-02-04 15:39:50,102][INFO]: Processed 100.0% of log lines.\n",
      "[2024-02-04 15:39:52,913][INFO]: Output parse file\n",
      "[2024-02-04 15:39:53,855][INFO]: lastestLindId: 18434\n",
      "[2024-02-04 15:39:57,852][INFO]: rootNodePath: alg/spell_results/rootNode.pkl\n",
      "[2024-02-04 15:39:57,860][INFO]: logCluLPath: alg/spell_results/logCluL.pkl\n",
      "[2024-02-04 15:39:57,867][INFO]: Store objects done.\n",
      "[2024-02-04 15:39:57,868][INFO]: Parsing done. [Time taken: 0:00:26.301858]\n",
      "[2024-02-04 15:39:57,878][INFO]: Parsing file: ./data_to_parse/OpenStack/openstack_normal1.log\n",
      "[2024-02-04 15:39:57,999][INFO]: Loaded 19.1% of log lines.\n",
      "[2024-02-04 15:39:58,095][INFO]: Loaded 38.2% of log lines.\n",
      "[2024-02-04 15:39:58,235][INFO]: Loaded 57.3% of log lines.\n",
      "[2024-02-04 15:39:58,332][INFO]: Loaded 76.5% of log lines.\n",
      "[2024-02-04 15:39:58,430][INFO]: Loaded 95.6% of log lines.\n",
      "[2024-02-04 15:39:58,507][INFO]: load_data() finished!\n",
      "[2024-02-04 15:39:58,588][INFO]: Load objects done, lastestLineId: 155347\n",
      "[2024-02-04 15:39:59,856][INFO]: Processed 19.1% of log lines.\n",
      "[2024-02-04 15:40:01,139][INFO]: Processed 38.2% of log lines.\n",
      "[2024-02-04 15:40:02,496][INFO]: Processed 57.4% of log lines.\n",
      "[2024-02-04 15:40:03,899][INFO]: Processed 76.5% of log lines.\n",
      "[2024-02-04 15:40:05,376][INFO]: Processed 95.6% of log lines.\n",
      "[2024-02-04 15:40:05,737][INFO]: Processed 100.0% of log lines.\n",
      "[2024-02-04 15:40:06,882][INFO]: Output parse file\n",
      "[2024-02-04 15:40:07,647][INFO]: lastestLindId: 155347\n",
      "[2024-02-04 15:40:10,085][INFO]: rootNodePath: alg/spell_results/rootNode.pkl\n",
      "[2024-02-04 15:40:10,095][INFO]: logCluLPath: alg/spell_results/logCluL.pkl\n",
      "[2024-02-04 15:40:10,102][INFO]: Store objects done.\n",
      "[2024-02-04 15:40:10,102][INFO]: Parsing done. [Time taken: 0:00:12.224572]\n"
     ]
    },
    {
     "name": "stdout",
     "output_type": "stream",
     "text": [
      "length of event_id_map: 1143\n",
      "length of event_id_map: 1143\n"
     ]
    },
    {
     "name": "stderr",
     "output_type": "stream",
     "text": [
      "[2024-02-04 15:40:10,712][INFO]: length of event_id_map: 1143\n"
     ]
    },
    {
     "name": "stdout",
     "output_type": "stream",
     "text": [
      "num of classes for train dataset is: 1143\n"
     ]
    },
    {
     "name": "stderr",
     "output_type": "stream",
     "text": [
      "/Users/enofel/Library/Mobile Documents/com~apple~CloudDocs/ENO/università/Magistrale-ControlEngineering/Master Thesis/Code/deeplog/alg/preprocess.py:16: SettingWithCopyWarning: \n",
      "A value is trying to be set on a copy of a slice from a DataFrame.\n",
      "Try using .loc[row_indexer,col_indexer] = value instead\n",
      "\n",
      "See the caveats in the documentation: https://pandas.pydata.org/pandas-docs/stable/user_guide/indexing.html#returning-a-view-versus-a-copy\n",
      "  df['EventId'] = df['EventId'].apply(lambda e: event_id_map[e] if event_id_map.get(e) else -1)\n",
      "/Users/enofel/Library/Mobile Documents/com~apple~CloudDocs/ENO/università/Magistrale-ControlEngineering/Master Thesis/Code/deeplog/alg/preprocess.py:16: SettingWithCopyWarning: \n",
      "A value is trying to be set on a copy of a slice from a DataFrame.\n",
      "Try using .loc[row_indexer,col_indexer] = value instead\n",
      "\n",
      "See the caveats in the documentation: https://pandas.pydata.org/pandas-docs/stable/user_guide/indexing.html#returning-a-view-versus-a-copy\n",
      "  df['EventId'] = df['EventId'].apply(lambda e: event_id_map[e] if event_id_map.get(e) else -1)\n",
      "/Users/enofel/Library/Mobile Documents/com~apple~CloudDocs/ENO/università/Magistrale-ControlEngineering/Master Thesis/Code/deeplog/alg/preprocess.py:16: SettingWithCopyWarning: \n",
      "A value is trying to be set on a copy of a slice from a DataFrame.\n",
      "Try using .loc[row_indexer,col_indexer] = value instead\n",
      "\n",
      "See the caveats in the documentation: https://pandas.pydata.org/pandas-docs/stable/user_guide/indexing.html#returning-a-view-versus-a-copy\n",
      "  df['EventId'] = df['EventId'].apply(lambda e: event_id_map[e] if event_id_map.get(e) else -1)\n"
     ]
    }
   ],
   "source": [
    "%run alg/preprocess.py"
   ]
  },
  {
   "cell_type": "code",
   "execution_count": 3,
   "metadata": {},
   "outputs": [
    {
     "name": "stdout",
     "output_type": "stream",
     "text": [
      "num of classes for train dataset is: 1143\n"
     ]
    }
   ],
   "source": [
    "import pandas as pd\n",
    "df = pd.read_csv('alg/spell_results/openstack_normal1.log_structured.csv')\n",
    "print('num of classes for train dataset is: {}'.format(df['EventId'].unique().shape[0]))"
   ]
  },
  {
   "cell_type": "code",
   "execution_count": 1,
   "metadata": {},
   "outputs": [
    {
     "name": "stdout",
     "output_type": "stream",
     "text": [
      "Distributed training - False\n"
     ]
    },
    {
     "name": "stderr",
     "output_type": "stream",
     "text": [
      "[2024-02-04 15:41:34,242][DEBUG]: Distributed training - False\n"
     ]
    },
    {
     "name": "stdout",
     "output_type": "stream",
     "text": [
      "Number of gpus requested - 0, available - 0.\n"
     ]
    },
    {
     "name": "stderr",
     "output_type": "stream",
     "text": [
      "[2024-02-04 15:41:34,243][DEBUG]: Number of gpus requested - 0, available - 0.\n"
     ]
    },
    {
     "name": "stdout",
     "output_type": "stream",
     "text": [
      "Get train data loader\n"
     ]
    },
    {
     "name": "stderr",
     "output_type": "stream",
     "text": [
      "[2024-02-04 15:41:34,247][INFO]: Get train data loader\n"
     ]
    },
    {
     "name": "stdout",
     "output_type": "stream",
     "text": [
      "Number of session(data_parsed/OpenStack/train): 48429\n"
     ]
    },
    {
     "name": "stderr",
     "output_type": "stream",
     "text": [
      "[2024-02-04 15:41:34,264][INFO]: Number of session(data_parsed/OpenStack/train): 48429\n"
     ]
    },
    {
     "name": "stdout",
     "output_type": "stream",
     "text": [
      "Number of seqs(data_parsed/OpenStack/train): 48429\n"
     ]
    },
    {
     "name": "stderr",
     "output_type": "stream",
     "text": [
      "[2024-02-04 15:41:34,265][INFO]: Number of seqs(data_parsed/OpenStack/train): 48429\n"
     ]
    },
    {
     "name": "stdout",
     "output_type": "stream",
     "text": [
      "Processes 48429/48429 (100%) of train data\n"
     ]
    },
    {
     "name": "stderr",
     "output_type": "stream",
     "text": [
      "[2024-02-04 15:41:34,295][DEBUG]: Processes 48429/48429 (100%) of train data\n"
     ]
    },
    {
     "name": "stdout",
     "output_type": "stream",
     "text": [
      "Epoch [1/35], Train_loss: 0.0031\n"
     ]
    },
    {
     "name": "stderr",
     "output_type": "stream",
     "text": [
      "[2024-02-04 15:41:37,537][DEBUG]: Epoch [1/35], Train_loss: 0.0031\n"
     ]
    },
    {
     "name": "stdout",
     "output_type": "stream",
     "text": [
      "Epoch [2/35], Train_loss: 0.0016\n"
     ]
    },
    {
     "name": "stderr",
     "output_type": "stream",
     "text": [
      "[2024-02-04 15:41:39,972][DEBUG]: Epoch [2/35], Train_loss: 0.0016\n"
     ]
    },
    {
     "name": "stdout",
     "output_type": "stream",
     "text": [
      "Epoch [3/35], Train_loss: 0.0013\n"
     ]
    },
    {
     "name": "stderr",
     "output_type": "stream",
     "text": [
      "[2024-02-04 15:41:41,843][DEBUG]: Epoch [3/35], Train_loss: 0.0013\n"
     ]
    },
    {
     "name": "stdout",
     "output_type": "stream",
     "text": [
      "Epoch [4/35], Train_loss: 0.0012\n"
     ]
    },
    {
     "name": "stderr",
     "output_type": "stream",
     "text": [
      "[2024-02-04 15:41:44,659][DEBUG]: Epoch [4/35], Train_loss: 0.0012\n"
     ]
    },
    {
     "name": "stdout",
     "output_type": "stream",
     "text": [
      "Epoch [5/35], Train_loss: 0.0012\n"
     ]
    },
    {
     "name": "stderr",
     "output_type": "stream",
     "text": [
      "[2024-02-04 15:41:47,462][DEBUG]: Epoch [5/35], Train_loss: 0.0012\n"
     ]
    },
    {
     "name": "stdout",
     "output_type": "stream",
     "text": [
      "Epoch [6/35], Train_loss: 0.0012\n"
     ]
    },
    {
     "name": "stderr",
     "output_type": "stream",
     "text": [
      "[2024-02-04 15:41:49,819][DEBUG]: Epoch [6/35], Train_loss: 0.0012\n"
     ]
    },
    {
     "name": "stdout",
     "output_type": "stream",
     "text": [
      "Epoch [7/35], Train_loss: 0.0012\n"
     ]
    },
    {
     "name": "stderr",
     "output_type": "stream",
     "text": [
      "[2024-02-04 15:41:53,698][DEBUG]: Epoch [7/35], Train_loss: 0.0012\n"
     ]
    },
    {
     "name": "stdout",
     "output_type": "stream",
     "text": [
      "Epoch [8/35], Train_loss: 0.0012\n"
     ]
    },
    {
     "name": "stderr",
     "output_type": "stream",
     "text": [
      "[2024-02-04 15:41:55,744][DEBUG]: Epoch [8/35], Train_loss: 0.0012\n"
     ]
    },
    {
     "name": "stdout",
     "output_type": "stream",
     "text": [
      "Epoch [9/35], Train_loss: 0.0012\n"
     ]
    },
    {
     "name": "stderr",
     "output_type": "stream",
     "text": [
      "[2024-02-04 15:41:59,234][DEBUG]: Epoch [9/35], Train_loss: 0.0012\n"
     ]
    },
    {
     "name": "stdout",
     "output_type": "stream",
     "text": [
      "Epoch [10/35], Train_loss: 0.0012\n"
     ]
    },
    {
     "name": "stderr",
     "output_type": "stream",
     "text": [
      "[2024-02-04 15:42:02,510][DEBUG]: Epoch [10/35], Train_loss: 0.0012\n"
     ]
    },
    {
     "name": "stdout",
     "output_type": "stream",
     "text": [
      "Epoch [11/35], Train_loss: 0.0012\n"
     ]
    },
    {
     "name": "stderr",
     "output_type": "stream",
     "text": [
      "[2024-02-04 15:42:05,002][DEBUG]: Epoch [11/35], Train_loss: 0.0012\n"
     ]
    },
    {
     "name": "stdout",
     "output_type": "stream",
     "text": [
      "Epoch [12/35], Train_loss: 0.0012\n"
     ]
    },
    {
     "name": "stderr",
     "output_type": "stream",
     "text": [
      "[2024-02-04 15:42:07,266][DEBUG]: Epoch [12/35], Train_loss: 0.0012\n"
     ]
    },
    {
     "name": "stdout",
     "output_type": "stream",
     "text": [
      "Epoch [13/35], Train_loss: 0.0012\n"
     ]
    },
    {
     "name": "stderr",
     "output_type": "stream",
     "text": [
      "[2024-02-04 15:42:10,560][DEBUG]: Epoch [13/35], Train_loss: 0.0012\n"
     ]
    },
    {
     "name": "stdout",
     "output_type": "stream",
     "text": [
      "Epoch [14/35], Train_loss: 0.0012\n"
     ]
    },
    {
     "name": "stderr",
     "output_type": "stream",
     "text": [
      "[2024-02-04 15:42:12,536][DEBUG]: Epoch [14/35], Train_loss: 0.0012\n"
     ]
    },
    {
     "name": "stdout",
     "output_type": "stream",
     "text": [
      "Epoch [15/35], Train_loss: 0.0012\n"
     ]
    },
    {
     "name": "stderr",
     "output_type": "stream",
     "text": [
      "[2024-02-04 15:42:15,896][DEBUG]: Epoch [15/35], Train_loss: 0.0012\n"
     ]
    },
    {
     "name": "stdout",
     "output_type": "stream",
     "text": [
      "Epoch [16/35], Train_loss: 0.0012\n"
     ]
    },
    {
     "name": "stderr",
     "output_type": "stream",
     "text": [
      "[2024-02-04 15:42:18,946][DEBUG]: Epoch [16/35], Train_loss: 0.0012\n"
     ]
    },
    {
     "name": "stdout",
     "output_type": "stream",
     "text": [
      "Epoch [17/35], Train_loss: 0.0011\n"
     ]
    },
    {
     "name": "stderr",
     "output_type": "stream",
     "text": [
      "[2024-02-04 15:42:21,683][DEBUG]: Epoch [17/35], Train_loss: 0.0011\n"
     ]
    },
    {
     "name": "stdout",
     "output_type": "stream",
     "text": [
      "Epoch [18/35], Train_loss: 0.0011\n"
     ]
    },
    {
     "name": "stderr",
     "output_type": "stream",
     "text": [
      "[2024-02-04 15:42:24,026][DEBUG]: Epoch [18/35], Train_loss: 0.0011\n"
     ]
    },
    {
     "name": "stdout",
     "output_type": "stream",
     "text": [
      "Epoch [19/35], Train_loss: 0.0011\n"
     ]
    },
    {
     "name": "stderr",
     "output_type": "stream",
     "text": [
      "[2024-02-04 15:42:26,287][DEBUG]: Epoch [19/35], Train_loss: 0.0011\n"
     ]
    },
    {
     "name": "stdout",
     "output_type": "stream",
     "text": [
      "Epoch [20/35], Train_loss: 0.0011\n"
     ]
    },
    {
     "name": "stderr",
     "output_type": "stream",
     "text": [
      "[2024-02-04 15:42:28,824][DEBUG]: Epoch [20/35], Train_loss: 0.0011\n"
     ]
    },
    {
     "name": "stdout",
     "output_type": "stream",
     "text": [
      "Epoch [21/35], Train_loss: 0.0011\n"
     ]
    },
    {
     "name": "stderr",
     "output_type": "stream",
     "text": [
      "[2024-02-04 15:42:31,233][DEBUG]: Epoch [21/35], Train_loss: 0.0011\n"
     ]
    },
    {
     "name": "stdout",
     "output_type": "stream",
     "text": [
      "Epoch [22/35], Train_loss: 0.0011\n"
     ]
    },
    {
     "name": "stderr",
     "output_type": "stream",
     "text": [
      "[2024-02-04 15:42:33,365][DEBUG]: Epoch [22/35], Train_loss: 0.0011\n"
     ]
    },
    {
     "name": "stdout",
     "output_type": "stream",
     "text": [
      "Epoch [23/35], Train_loss: 0.001\n"
     ]
    },
    {
     "name": "stderr",
     "output_type": "stream",
     "text": [
      "[2024-02-04 15:42:35,972][DEBUG]: Epoch [23/35], Train_loss: 0.001\n"
     ]
    },
    {
     "name": "stdout",
     "output_type": "stream",
     "text": [
      "Epoch [24/35], Train_loss: 0.001\n"
     ]
    },
    {
     "name": "stderr",
     "output_type": "stream",
     "text": [
      "[2024-02-04 15:42:38,518][DEBUG]: Epoch [24/35], Train_loss: 0.001\n"
     ]
    },
    {
     "name": "stdout",
     "output_type": "stream",
     "text": [
      "Epoch [25/35], Train_loss: 0.001\n"
     ]
    },
    {
     "name": "stderr",
     "output_type": "stream",
     "text": [
      "[2024-02-04 15:42:41,282][DEBUG]: Epoch [25/35], Train_loss: 0.001\n"
     ]
    },
    {
     "name": "stdout",
     "output_type": "stream",
     "text": [
      "Epoch [26/35], Train_loss: 0.001\n"
     ]
    },
    {
     "name": "stderr",
     "output_type": "stream",
     "text": [
      "[2024-02-04 15:42:43,491][DEBUG]: Epoch [26/35], Train_loss: 0.001\n"
     ]
    },
    {
     "name": "stdout",
     "output_type": "stream",
     "text": [
      "Epoch [27/35], Train_loss: 0.001\n"
     ]
    },
    {
     "name": "stderr",
     "output_type": "stream",
     "text": [
      "[2024-02-04 15:42:46,025][DEBUG]: Epoch [27/35], Train_loss: 0.001\n"
     ]
    },
    {
     "name": "stdout",
     "output_type": "stream",
     "text": [
      "Epoch [28/35], Train_loss: 0.001\n"
     ]
    },
    {
     "name": "stderr",
     "output_type": "stream",
     "text": [
      "[2024-02-04 15:42:48,730][DEBUG]: Epoch [28/35], Train_loss: 0.001\n"
     ]
    },
    {
     "name": "stdout",
     "output_type": "stream",
     "text": [
      "Epoch [29/35], Train_loss: 0.001\n"
     ]
    },
    {
     "name": "stderr",
     "output_type": "stream",
     "text": [
      "[2024-02-04 15:42:51,568][DEBUG]: Epoch [29/35], Train_loss: 0.001\n"
     ]
    },
    {
     "name": "stdout",
     "output_type": "stream",
     "text": [
      "Epoch [30/35], Train_loss: 0.0009\n"
     ]
    },
    {
     "name": "stderr",
     "output_type": "stream",
     "text": [
      "[2024-02-04 15:42:54,556][DEBUG]: Epoch [30/35], Train_loss: 0.0009\n"
     ]
    },
    {
     "name": "stdout",
     "output_type": "stream",
     "text": [
      "Epoch [31/35], Train_loss: 0.0009\n"
     ]
    },
    {
     "name": "stderr",
     "output_type": "stream",
     "text": [
      "[2024-02-04 15:42:57,433][DEBUG]: Epoch [31/35], Train_loss: 0.0009\n"
     ]
    },
    {
     "name": "stdout",
     "output_type": "stream",
     "text": [
      "Epoch [32/35], Train_loss: 0.0009\n"
     ]
    },
    {
     "name": "stderr",
     "output_type": "stream",
     "text": [
      "[2024-02-04 15:43:00,423][DEBUG]: Epoch [32/35], Train_loss: 0.0009\n"
     ]
    },
    {
     "name": "stdout",
     "output_type": "stream",
     "text": [
      "Epoch [33/35], Train_loss: 0.0009\n"
     ]
    },
    {
     "name": "stderr",
     "output_type": "stream",
     "text": [
      "[2024-02-04 15:43:03,340][DEBUG]: Epoch [33/35], Train_loss: 0.0009\n"
     ]
    },
    {
     "name": "stdout",
     "output_type": "stream",
     "text": [
      "Epoch [34/35], Train_loss: 0.0009\n"
     ]
    },
    {
     "name": "stderr",
     "output_type": "stream",
     "text": [
      "[2024-02-04 15:43:06,892][DEBUG]: Epoch [34/35], Train_loss: 0.0009\n"
     ]
    },
    {
     "name": "stdout",
     "output_type": "stream",
     "text": [
      "Epoch [35/35], Train_loss: 0.0008\n"
     ]
    },
    {
     "name": "stderr",
     "output_type": "stream",
     "text": [
      "[2024-02-04 15:43:09,734][DEBUG]: Epoch [35/35], Train_loss: 0.0008\n"
     ]
    },
    {
     "name": "stdout",
     "output_type": "stream",
     "text": [
      "Finished Training\n"
     ]
    },
    {
     "name": "stderr",
     "output_type": "stream",
     "text": [
      "[2024-02-04 15:43:09,735][DEBUG]: Finished Training\n"
     ]
    },
    {
     "name": "stdout",
     "output_type": "stream",
     "text": [
      "Saving the model.\n"
     ]
    },
    {
     "name": "stderr",
     "output_type": "stream",
     "text": [
      "[2024-02-04 15:43:09,736][INFO]: Saving the model.\n"
     ]
    }
   ],
   "source": [
    "%run alg/train.py --batch-size 2048 --num-class 1143 --num-candidates 144 --epochs 35 --window-size 10 --local True\n"
   ]
  },
  {
   "cell_type": "code",
   "execution_count": 1,
   "metadata": {},
   "outputs": [
    {
     "name": "stdout",
     "output_type": "stream",
     "text": [
      "Loading the model.\n"
     ]
    },
    {
     "name": "stderr",
     "output_type": "stream",
     "text": [
      "[2024-02-04 15:43:58,470][INFO]: Loading the model.\n"
     ]
    },
    {
     "name": "stdout",
     "output_type": "stream",
     "text": [
      "model_info: {'input_size': 1, 'hidden_size': 64, 'num_layers': 2, 'num_classes': 1143, 'num_candidates': 144, 'window_size': 10}\n"
     ]
    },
    {
     "name": "stderr",
     "output_type": "stream",
     "text": [
      "[2024-02-04 15:43:58,471][DEBUG]: model_info: {'input_size': 1, 'hidden_size': 64, 'num_layers': 2, 'num_classes': 1143, 'num_candidates': 144, 'window_size': 10}\n"
     ]
    },
    {
     "name": "stdout",
     "output_type": "stream",
     "text": [
      "Current device: cpu\n"
     ]
    },
    {
     "name": "stderr",
     "output_type": "stream",
     "text": [
      "[2024-02-04 15:43:58,471][INFO]: Current device: cpu\n"
     ]
    },
    {
     "name": "stdout",
     "output_type": "stream",
     "text": [
      "thres: 19\n"
     ]
    },
    {
     "name": "stderr",
     "output_type": "stream",
     "text": [
      "[2024-02-04 15:45:15,133][INFO]: thres: 19\n"
     ]
    },
    {
     "name": "stdout",
     "output_type": "stream",
     "text": [
      "TP: 102\n"
     ]
    },
    {
     "name": "stderr",
     "output_type": "stream",
     "text": [
      "[2024-02-04 15:45:15,133][INFO]: TP: 102\n"
     ]
    },
    {
     "name": "stdout",
     "output_type": "stream",
     "text": [
      "FP: 3\n"
     ]
    },
    {
     "name": "stderr",
     "output_type": "stream",
     "text": [
      "[2024-02-04 15:45:15,134][INFO]: FP: 3\n"
     ]
    },
    {
     "name": "stdout",
     "output_type": "stream",
     "text": [
      "TN: 1245\n"
     ]
    },
    {
     "name": "stderr",
     "output_type": "stream",
     "text": [
      "[2024-02-04 15:45:15,134][INFO]: TN: 1245\n"
     ]
    },
    {
     "name": "stdout",
     "output_type": "stream",
     "text": [
      "FN: 36\n"
     ]
    },
    {
     "name": "stderr",
     "output_type": "stream",
     "text": [
      "[2024-02-04 15:45:15,135][INFO]: FN: 36\n"
     ]
    },
    {
     "name": "stdout",
     "output_type": "stream",
     "text": [
      "accuracy: 0.9718614718614719\n"
     ]
    },
    {
     "name": "stderr",
     "output_type": "stream",
     "text": [
      "[2024-02-04 15:45:15,135][INFO]: accuracy: 0.9718614718614719\n"
     ]
    },
    {
     "name": "stdout",
     "output_type": "stream",
     "text": [
      "Precision: 0.9714285714285714\n"
     ]
    },
    {
     "name": "stderr",
     "output_type": "stream",
     "text": [
      "[2024-02-04 15:45:15,135][INFO]: Precision: 0.9714285714285714\n"
     ]
    },
    {
     "name": "stdout",
     "output_type": "stream",
     "text": [
      "Recall: 0.7391304347826086\n"
     ]
    },
    {
     "name": "stderr",
     "output_type": "stream",
     "text": [
      "[2024-02-04 15:45:15,136][INFO]: Recall: 0.7391304347826086\n"
     ]
    },
    {
     "name": "stdout",
     "output_type": "stream",
     "text": [
      "F1: 0.8395061728395062\n"
     ]
    },
    {
     "name": "stderr",
     "output_type": "stream",
     "text": [
      "[2024-02-04 15:45:15,136][INFO]: F1: 0.8395061728395062\n"
     ]
    }
   ],
   "source": [
    "# High threshold => High precision & low recall\n",
    "# Low Threshold => vice-versa\n",
    "%run alg/predict.py --threshold 19"
   ]
  }
 ],
 "metadata": {
  "kernelspec": {
   "display_name": "env",
   "language": "python",
   "name": "python3"
  },
  "language_info": {
   "codemirror_mode": {
    "name": "ipython",
    "version": 3
   },
   "file_extension": ".py",
   "mimetype": "text/x-python",
   "name": "python",
   "nbconvert_exporter": "python",
   "pygments_lexer": "ipython3",
   "version": "3.9.6"
  }
 },
 "nbformat": 4,
 "nbformat_minor": 2
}
